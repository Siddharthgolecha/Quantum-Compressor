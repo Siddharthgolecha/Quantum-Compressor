{
 "cells": [
  {
   "cell_type": "code",
   "execution_count": 128,
   "id": "b4c7cc6a",
   "metadata": {},
   "outputs": [],
   "source": [
    "import numpy as np\n",
    "from qiskit import QuantumCircuit, Aer, transpile\n",
    "from qiskit.circuit import Parameter\n",
    "import matplotlib.pyplot as plt\n",
    "from tqdm import tqdm"
   ]
  },
  {
   "cell_type": "code",
   "execution_count": 171,
   "id": "a9876984",
   "metadata": {},
   "outputs": [
    {
     "name": "stdout",
     "output_type": "stream",
     "text": [
      "abcd\n",
      "[25 24 23 22]\n"
     ]
    }
   ],
   "source": [
    "chars = np.array([ord(\"Z\")-ord(i) for i in input().upper()])\n",
    "print(chars)"
   ]
  },
  {
   "cell_type": "code",
   "execution_count": 66,
   "id": "c54d787c",
   "metadata": {},
   "outputs": [
    {
     "name": "stdout",
     "output_type": "stream",
     "text": [
      "[[ 0  1  2  3]\n",
      " [ 1  2  3  4]\n",
      " [ 2  3  4  5]\n",
      " [ 3  4  5  6]\n",
      " [ 4  5  6  7]\n",
      " [ 5  6  7  8]\n",
      " [ 6  7  8  9]\n",
      " [ 7  8  9 10]\n",
      " [ 8  9 10 11]\n",
      " [ 9 10 11 12]\n",
      " [10 11 12 13]\n",
      " [11 12 13 14]\n",
      " [12 13 14 15]\n",
      " [13 14 15 16]\n",
      " [14 15 16 17]\n",
      " [15 16 17 18]\n",
      " [16 17 18 19]\n",
      " [17 18 19 20]\n",
      " [18 19 20 21]\n",
      " [19 20 21 22]\n",
      " [20 21 22 23]\n",
      " [21 22 23 24]\n",
      " [22 23 24 25]\n",
      " [23 24 25  0]\n",
      " [24 25  0  1]\n",
      " [25  0  1  2]]\n"
     ]
    }
   ],
   "source": [
    "dataset = np.array([np.arange(i,i+4)%26 for i in range(26)])\n",
    "print(dataset)"
   ]
  },
  {
   "cell_type": "code",
   "execution_count": 68,
   "id": "0491b490",
   "metadata": {},
   "outputs": [],
   "source": [
    "def angle_encoding(qc,arr):\n",
    "    angles = 2*np.arcsin(np.sqrt(arr/25))\n",
    "    for i in range(len(arr)):\n",
    "        qc.ry(angles[i],i)"
   ]
  },
  {
   "cell_type": "code",
   "execution_count": 100,
   "id": "924060dd",
   "metadata": {},
   "outputs": [],
   "source": [
    "def add_encoder(qc,n):\n",
    "    parameters = [Parameter(f'theta_{i}') for i in range(n*5)]\n",
    "    for i in range(n):\n",
    "        qc.rz(parameters[i],i)\n",
    "    idx = n\n",
    "    for i in range(n):\n",
    "        for j in range(n):\n",
    "            if i==j:\n",
    "                continue\n",
    "            else:\n",
    "                qc.crz(parameters[idx],i,j)\n",
    "                idx += 1\n",
    "    for i in range(n):\n",
    "        qc.rz(parameters[4*n+i],i)\n",
    "    return parameters"
   ]
  },
  {
   "cell_type": "code",
   "execution_count": 144,
   "id": "8922ba7d",
   "metadata": {},
   "outputs": [],
   "source": [
    "def compute_cost(parameters, data):\n",
    "    qc = QuantumCircuit(7,1)\n",
    "    qc.initialize(data/np.sqrt(np.sum(data**2)),(4,5))\n",
    "    angle_encoding(qc,data)\n",
    "    params = add_encoder(qc,len(data))\n",
    "    qc.h(6)\n",
    "    qc.cswap(6,4,2)\n",
    "    qc.cswap(6,5,3)\n",
    "    qc.h(6)\n",
    "    qc.measure(6,0)\n",
    "    qc = qc.bind_parameters({params[i]:random_params[i] for i in range(5*n)})\n",
    "    backend = Aer.get_backend('aer_simulator')\n",
    "    circ = transpile(qc, backend)\n",
    "    count = backend.run(circ).result().get_counts()\n",
    "    return np.log10(1-(count['0']/1024))"
   ]
  },
  {
   "cell_type": "code",
   "execution_count": 178,
   "id": "61b46a55",
   "metadata": {},
   "outputs": [
    {
     "name": "stderr",
     "output_type": "stream",
     "text": [
      "Training autoencoder...:   2%|▍                  | 1/50 [00:28<23:06, 28.30s/it]"
     ]
    },
    {
     "name": "stdout",
     "output_type": "stream",
     "text": [
      "MAE Cost After Epoch 1:  0.43387963094856313\n"
     ]
    },
    {
     "name": "stderr",
     "output_type": "stream",
     "text": [
      "\r",
      "Training autoencoder...:   4%|▊                  | 2/50 [01:05<26:49, 33.52s/it]"
     ]
    },
    {
     "name": "stdout",
     "output_type": "stream",
     "text": [
      "MAE Cost After Epoch 2:  0.4371589033806215\n"
     ]
    },
    {
     "name": "stderr",
     "output_type": "stream",
     "text": [
      "\r",
      "Training autoencoder...:   6%|█▏                 | 3/50 [01:43<27:50, 35.54s/it]"
     ]
    },
    {
     "name": "stdout",
     "output_type": "stream",
     "text": [
      "MAE Cost After Epoch 3:  0.4361510290355748\n"
     ]
    },
    {
     "name": "stderr",
     "output_type": "stream",
     "text": [
      "\r",
      "Training autoencoder...:   8%|█▌                 | 4/50 [02:19<27:24, 35.74s/it]"
     ]
    },
    {
     "name": "stdout",
     "output_type": "stream",
     "text": [
      "MAE Cost After Epoch 4:  0.42988764577361044\n"
     ]
    },
    {
     "name": "stderr",
     "output_type": "stream",
     "text": [
      "\r",
      "Training autoencoder...:  10%|█▉                 | 5/50 [02:59<28:02, 37.38s/it]"
     ]
    },
    {
     "name": "stdout",
     "output_type": "stream",
     "text": [
      "MAE Cost After Epoch 5:  0.440264371998946\n"
     ]
    },
    {
     "name": "stderr",
     "output_type": "stream",
     "text": [
      "\r",
      "Training autoencoder...:  12%|██▎                | 6/50 [03:55<32:00, 43.64s/it]"
     ]
    },
    {
     "name": "stdout",
     "output_type": "stream",
     "text": [
      "MAE Cost After Epoch 6:  0.43502711558674406\n"
     ]
    },
    {
     "name": "stderr",
     "output_type": "stream",
     "text": [
      "\r",
      "Training autoencoder...:  14%|██▋                | 7/50 [04:32<29:45, 41.53s/it]"
     ]
    },
    {
     "name": "stdout",
     "output_type": "stream",
     "text": [
      "MAE Cost After Epoch 7:  0.43274261498528666\n"
     ]
    },
    {
     "name": "stderr",
     "output_type": "stream",
     "text": [
      "\r",
      "Training autoencoder...:  16%|███                | 8/50 [05:03<26:43, 38.19s/it]"
     ]
    },
    {
     "name": "stdout",
     "output_type": "stream",
     "text": [
      "MAE Cost After Epoch 8:  0.4355301897101081\n"
     ]
    },
    {
     "name": "stderr",
     "output_type": "stream",
     "text": [
      "\r",
      "Training autoencoder...:  18%|███▍               | 9/50 [05:52<28:20, 41.49s/it]"
     ]
    },
    {
     "name": "stdout",
     "output_type": "stream",
     "text": [
      "MAE Cost After Epoch 9:  0.4330577809673239\n"
     ]
    },
    {
     "name": "stderr",
     "output_type": "stream",
     "text": [
      "\r",
      "Training autoencoder...:  20%|███▌              | 10/50 [06:44<29:49, 44.73s/it]"
     ]
    },
    {
     "name": "stdout",
     "output_type": "stream",
     "text": [
      "MAE Cost After Epoch 10:  0.43201541141475996\n"
     ]
    },
    {
     "name": "stderr",
     "output_type": "stream",
     "text": [
      "\r",
      "Training autoencoder...:  22%|███▉              | 11/50 [07:36<30:30, 46.93s/it]"
     ]
    },
    {
     "name": "stdout",
     "output_type": "stream",
     "text": [
      "MAE Cost After Epoch 11:  0.43122505105616954\n"
     ]
    },
    {
     "name": "stderr",
     "output_type": "stream",
     "text": [
      "\r",
      "Training autoencoder...:  24%|████▎             | 12/50 [08:18<28:41, 45.31s/it]"
     ]
    },
    {
     "name": "stdout",
     "output_type": "stream",
     "text": [
      "MAE Cost After Epoch 12:  0.43364032753347204\n"
     ]
    },
    {
     "name": "stderr",
     "output_type": "stream",
     "text": [
      "\r",
      "Training autoencoder...:  26%|████▋             | 13/50 [08:54<26:15, 42.57s/it]"
     ]
    },
    {
     "name": "stdout",
     "output_type": "stream",
     "text": [
      "MAE Cost After Epoch 13:  0.4269005883388426\n"
     ]
    },
    {
     "name": "stderr",
     "output_type": "stream",
     "text": [
      "\r",
      "Training autoencoder...:  28%|█████             | 14/50 [09:26<23:39, 39.43s/it]"
     ]
    },
    {
     "name": "stdout",
     "output_type": "stream",
     "text": [
      "MAE Cost After Epoch 14:  0.43501218150613624\n"
     ]
    },
    {
     "name": "stderr",
     "output_type": "stream",
     "text": [
      "\r",
      "Training autoencoder...:  30%|█████▍            | 15/50 [09:59<21:57, 37.65s/it]"
     ]
    },
    {
     "name": "stdout",
     "output_type": "stream",
     "text": [
      "MAE Cost After Epoch 15:  0.43619226347383944\n"
     ]
    },
    {
     "name": "stderr",
     "output_type": "stream",
     "text": [
      "\r",
      "Training autoencoder...:  32%|█████▊            | 16/50 [10:30<20:08, 35.54s/it]"
     ]
    },
    {
     "name": "stdout",
     "output_type": "stream",
     "text": [
      "MAE Cost After Epoch 16:  0.4314762789779539\n"
     ]
    },
    {
     "name": "stderr",
     "output_type": "stream",
     "text": [
      "\r",
      "Training autoencoder...:  34%|██████            | 17/50 [11:02<18:53, 34.34s/it]"
     ]
    },
    {
     "name": "stdout",
     "output_type": "stream",
     "text": [
      "MAE Cost After Epoch 17:  0.43325605480792845\n"
     ]
    },
    {
     "name": "stderr",
     "output_type": "stream",
     "text": [
      "\r",
      "Training autoencoder...:  36%|██████▍           | 18/50 [11:40<18:59, 35.61s/it]"
     ]
    },
    {
     "name": "stdout",
     "output_type": "stream",
     "text": [
      "MAE Cost After Epoch 18:  0.4318018805143192\n"
     ]
    },
    {
     "name": "stderr",
     "output_type": "stream",
     "text": [
      "\r",
      "Training autoencoder...:  38%|██████▊           | 19/50 [12:19<18:50, 36.48s/it]"
     ]
    },
    {
     "name": "stdout",
     "output_type": "stream",
     "text": [
      "MAE Cost After Epoch 19:  0.43172056064105657\n"
     ]
    },
    {
     "name": "stderr",
     "output_type": "stream",
     "text": [
      "\r",
      "Training autoencoder...:  40%|███████▏          | 20/50 [13:04<19:30, 39.01s/it]"
     ]
    },
    {
     "name": "stdout",
     "output_type": "stream",
     "text": [
      "MAE Cost After Epoch 20:  0.4299850389526875\n"
     ]
    },
    {
     "name": "stderr",
     "output_type": "stream",
     "text": [
      "\r",
      "Training autoencoder...:  42%|███████▌          | 21/50 [13:53<20:24, 42.22s/it]"
     ]
    },
    {
     "name": "stdout",
     "output_type": "stream",
     "text": [
      "MAE Cost After Epoch 21:  0.4347947975507035\n"
     ]
    },
    {
     "name": "stderr",
     "output_type": "stream",
     "text": [
      "\r",
      "Training autoencoder...:  44%|███████▉          | 22/50 [14:38<20:02, 42.95s/it]"
     ]
    },
    {
     "name": "stdout",
     "output_type": "stream",
     "text": [
      "MAE Cost After Epoch 22:  0.4274850735776924\n",
      "MAE Cost After Epoch 23:  0.4310992083356248\n"
     ]
    },
    {
     "name": "stderr",
     "output_type": "stream",
     "text": [
      "Training autoencoder...:  48%|████████▋         | 24/50 [16:10<19:21, 44.67s/it]"
     ]
    },
    {
     "name": "stdout",
     "output_type": "stream",
     "text": [
      "MAE Cost After Epoch 24:  0.43303419724896525\n"
     ]
    },
    {
     "name": "stderr",
     "output_type": "stream",
     "text": [
      "\r",
      "Training autoencoder...:  50%|█████████         | 25/50 [16:56<18:51, 45.27s/it]"
     ]
    },
    {
     "name": "stdout",
     "output_type": "stream",
     "text": [
      "MAE Cost After Epoch 25:  0.43132731704493926\n"
     ]
    },
    {
     "name": "stderr",
     "output_type": "stream",
     "text": [
      "\r",
      "Training autoencoder...:  52%|█████████▎        | 26/50 [17:40<17:54, 44.76s/it]"
     ]
    },
    {
     "name": "stdout",
     "output_type": "stream",
     "text": [
      "MAE Cost After Epoch 26:  0.4332948574493916\n"
     ]
    },
    {
     "name": "stderr",
     "output_type": "stream",
     "text": [
      "\r",
      "Training autoencoder...:  54%|█████████▋        | 27/50 [18:24<17:06, 44.61s/it]"
     ]
    },
    {
     "name": "stdout",
     "output_type": "stream",
     "text": [
      "MAE Cost After Epoch 27:  0.42868138946351375\n"
     ]
    },
    {
     "name": "stderr",
     "output_type": "stream",
     "text": [
      "\r",
      "Training autoencoder...:  56%|██████████        | 28/50 [19:03<15:44, 42.94s/it]"
     ]
    },
    {
     "name": "stdout",
     "output_type": "stream",
     "text": [
      "MAE Cost After Epoch 28:  0.43364585148036827\n"
     ]
    },
    {
     "name": "stderr",
     "output_type": "stream",
     "text": [
      "\r",
      "Training autoencoder...:  58%|██████████▍       | 29/50 [19:37<14:06, 40.32s/it]"
     ]
    },
    {
     "name": "stdout",
     "output_type": "stream",
     "text": [
      "MAE Cost After Epoch 29:  0.43169705719583085\n"
     ]
    },
    {
     "name": "stderr",
     "output_type": "stream",
     "text": [
      "\r",
      "Training autoencoder...:  60%|██████████▊       | 30/50 [20:07<12:24, 37.24s/it]"
     ]
    },
    {
     "name": "stdout",
     "output_type": "stream",
     "text": [
      "MAE Cost After Epoch 30:  0.4400487106942885\n"
     ]
    },
    {
     "name": "stderr",
     "output_type": "stream",
     "text": [
      "\r",
      "Training autoencoder...:  62%|███████████▏      | 31/50 [20:37<11:04, 34.97s/it]"
     ]
    },
    {
     "name": "stdout",
     "output_type": "stream",
     "text": [
      "MAE Cost After Epoch 31:  0.43306839984791395\n"
     ]
    },
    {
     "name": "stderr",
     "output_type": "stream",
     "text": [
      "\r",
      "Training autoencoder...:  64%|███████████▌      | 32/50 [21:06<09:58, 33.26s/it]"
     ]
    },
    {
     "name": "stdout",
     "output_type": "stream",
     "text": [
      "MAE Cost After Epoch 32:  0.4250806478016935\n"
     ]
    },
    {
     "name": "stderr",
     "output_type": "stream",
     "text": [
      "\r",
      "Training autoencoder...:  66%|███████████▉      | 33/50 [21:37<09:09, 32.35s/it]"
     ]
    },
    {
     "name": "stdout",
     "output_type": "stream",
     "text": [
      "MAE Cost After Epoch 33:  0.43119533110771857\n"
     ]
    },
    {
     "name": "stderr",
     "output_type": "stream",
     "text": [
      "\r",
      "Training autoencoder...:  68%|████████████▏     | 34/50 [22:09<08:35, 32.25s/it]"
     ]
    },
    {
     "name": "stdout",
     "output_type": "stream",
     "text": [
      "MAE Cost After Epoch 34:  0.43368045878490113\n"
     ]
    },
    {
     "name": "stderr",
     "output_type": "stream",
     "text": [
      "\r",
      "Training autoencoder...:  70%|████████████▌     | 35/50 [22:42<08:08, 32.56s/it]"
     ]
    },
    {
     "name": "stdout",
     "output_type": "stream",
     "text": [
      "MAE Cost After Epoch 35:  0.4282769140090473\n"
     ]
    },
    {
     "name": "stderr",
     "output_type": "stream",
     "text": [
      "\r",
      "Training autoencoder...:  72%|████████████▉     | 36/50 [23:11<07:22, 31.61s/it]"
     ]
    },
    {
     "name": "stdout",
     "output_type": "stream",
     "text": [
      "MAE Cost After Epoch 36:  0.44001821209331893\n"
     ]
    },
    {
     "name": "stderr",
     "output_type": "stream",
     "text": [
      "\r",
      "Training autoencoder...:  74%|█████████████▎    | 37/50 [23:41<06:42, 30.98s/it]"
     ]
    },
    {
     "name": "stdout",
     "output_type": "stream",
     "text": [
      "MAE Cost After Epoch 37:  0.42949946883548057\n"
     ]
    },
    {
     "name": "stderr",
     "output_type": "stream",
     "text": [
      "\r",
      "Training autoencoder...:  76%|█████████████▋    | 38/50 [24:12<06:12, 31.01s/it]"
     ]
    },
    {
     "name": "stdout",
     "output_type": "stream",
     "text": [
      "MAE Cost After Epoch 38:  0.43174280688085653\n"
     ]
    },
    {
     "name": "stderr",
     "output_type": "stream",
     "text": [
      "\r",
      "Training autoencoder...:  78%|██████████████    | 39/50 [24:41<05:34, 30.40s/it]"
     ]
    },
    {
     "name": "stdout",
     "output_type": "stream",
     "text": [
      "MAE Cost After Epoch 39:  0.42124682659400725\n"
     ]
    },
    {
     "name": "stderr",
     "output_type": "stream",
     "text": [
      "\r",
      "Training autoencoder...:  80%|██████████████▍   | 40/50 [25:10<05:01, 30.13s/it]"
     ]
    },
    {
     "name": "stdout",
     "output_type": "stream",
     "text": [
      "MAE Cost After Epoch 40:  0.42973961582431897\n"
     ]
    },
    {
     "name": "stderr",
     "output_type": "stream",
     "text": [
      "\r",
      "Training autoencoder...:  82%|██████████████▊   | 41/50 [25:39<04:28, 29.80s/it]"
     ]
    },
    {
     "name": "stdout",
     "output_type": "stream",
     "text": [
      "MAE Cost After Epoch 41:  0.4394191799298666\n"
     ]
    },
    {
     "name": "stderr",
     "output_type": "stream",
     "text": [
      "\r",
      "Training autoencoder...:  84%|███████████████   | 42/50 [26:09<03:57, 29.73s/it]"
     ]
    },
    {
     "name": "stdout",
     "output_type": "stream",
     "text": [
      "MAE Cost After Epoch 42:  0.4328393919852295\n"
     ]
    },
    {
     "name": "stderr",
     "output_type": "stream",
     "text": [
      "\r",
      "Training autoencoder...:  86%|███████████████▍  | 43/50 [26:40<03:31, 30.22s/it]"
     ]
    },
    {
     "name": "stdout",
     "output_type": "stream",
     "text": [
      "MAE Cost After Epoch 43:  0.4354670973457525\n"
     ]
    },
    {
     "name": "stderr",
     "output_type": "stream",
     "text": [
      "\r",
      "Training autoencoder...:  88%|███████████████▊  | 44/50 [27:11<03:01, 30.31s/it]"
     ]
    },
    {
     "name": "stdout",
     "output_type": "stream",
     "text": [
      "MAE Cost After Epoch 44:  0.44112409934313956\n"
     ]
    },
    {
     "name": "stderr",
     "output_type": "stream",
     "text": [
      "\r",
      "Training autoencoder...:  90%|████████████████▏ | 45/50 [27:40<02:29, 29.94s/it]"
     ]
    },
    {
     "name": "stdout",
     "output_type": "stream",
     "text": [
      "MAE Cost After Epoch 45:  0.4369808134760875\n"
     ]
    },
    {
     "name": "stderr",
     "output_type": "stream",
     "text": [
      "\r",
      "Training autoencoder...:  92%|████████████████▌ | 46/50 [28:10<01:59, 29.86s/it]"
     ]
    },
    {
     "name": "stdout",
     "output_type": "stream",
     "text": [
      "MAE Cost After Epoch 46:  0.4343172675886685\n"
     ]
    },
    {
     "name": "stderr",
     "output_type": "stream",
     "text": [
      "\r",
      "Training autoencoder...:  94%|████████████████▉ | 47/50 [28:40<01:29, 29.91s/it]"
     ]
    },
    {
     "name": "stdout",
     "output_type": "stream",
     "text": [
      "MAE Cost After Epoch 47:  0.4297547679294441\n"
     ]
    },
    {
     "name": "stderr",
     "output_type": "stream",
     "text": [
      "\r",
      "Training autoencoder...:  96%|█████████████████▎| 48/50 [29:09<00:59, 29.80s/it]"
     ]
    },
    {
     "name": "stdout",
     "output_type": "stream",
     "text": [
      "MAE Cost After Epoch 48:  0.43484431335998364\n"
     ]
    },
    {
     "name": "stderr",
     "output_type": "stream",
     "text": [
      "\r",
      "Training autoencoder...:  98%|█████████████████▋| 49/50 [29:39<00:29, 29.69s/it]"
     ]
    },
    {
     "name": "stdout",
     "output_type": "stream",
     "text": [
      "MAE Cost After Epoch 49:  0.43668400872631113\n"
     ]
    },
    {
     "name": "stderr",
     "output_type": "stream",
     "text": [
      "Training autoencoder...: 100%|██████████████████| 50/50 [30:08<00:00, 36.17s/it]"
     ]
    },
    {
     "name": "stdout",
     "output_type": "stream",
     "text": [
      "MAE Cost After Epoch 50:  0.43076908264034103\n"
     ]
    },
    {
     "name": "stderr",
     "output_type": "stream",
     "text": [
      "\n"
     ]
    }
   ],
   "source": [
    "epochs = 50\n",
    "initial_params = np.random.rand(5*n)*2*np.pi\n",
    "params = initial_params\n",
    "alpha = 0.002\n",
    "costs = []\n",
    "s = 1e-4\n",
    "#training autoencoder\n",
    "for epoch in tqdm(range(epochs),desc=\"Training autoencoder...\"):\n",
    "    np.random.shuffle(dataset)\n",
    "    cost = 0\n",
    "    left = 0\n",
    "    right = 0\n",
    "    for data in dataset:\n",
    "        cost += abs(compute_cost(params, data))\n",
    "        left += compute_cost(params+s, data)\n",
    "        right += compute_cost(params-s, data)\n",
    "    costs.append(cost/len(dataset))\n",
    "    gradient = (left-right)/(2*s*n)\n",
    "    params -= alpha*gradient\n",
    "    print(f\"MAE Cost After Epoch {epoch+1}: \",costs[-1])"
   ]
  },
  {
   "cell_type": "code",
   "execution_count": 179,
   "id": "3316b65d",
   "metadata": {},
   "outputs": [
    {
     "data": {
      "image/png": "[encoded data removed]",
      "text/plain": [
       "<Figure size 432x288 with 1 Axes>"
      ]
     },
     "metadata": {
      "needs_background": "light"
     },
     "output_type": "display_data"
    }
   ],
   "source": [
    "plt.plot(costs)\n",
    "plt.xlabel(\"Epochs\")\n",
    "plt.ylabel(\"MAE\")\n",
    "plt.show()"
   ]
  },
  {
   "cell_type": "code",
   "execution_count": 181,
   "id": "bac7dbb5",
   "metadata": {},
   "outputs": [],
   "source": [
    "def compression_circuit(data, parameters):\n",
    "    qc = QuantumCircuit(7,2)\n",
    "    qc.initialize(data/np.sqrt(np.sum(data**2)),(4,5))\n",
    "    angle_encoding(qc,data)\n",
    "    params = add_encoder(qc,len(data))\n",
    "    qc.h(6)\n",
    "    qc.cswap(6,4,2)\n",
    "    qc.cswap(6,5,3)\n",
    "    qc.h(6)\n",
    "    qc.measure([2,3],[0,1])\n",
    "    qc = qc.bind_parameters({params[i]:random_params[i] for i in range(5*n)})\n",
    "    backend = Aer.get_backend('aer_simulator')\n",
    "    circ = transpile(qc, backend)\n",
    "    count = backend.run(circ).result().get_counts()\n",
    "    return count"
   ]
  },
  {
   "cell_type": "code",
   "execution_count": 182,
   "id": "d5788543",
   "metadata": {},
   "outputs": [
    {
     "name": "stdout",
     "output_type": "stream",
     "text": [
      "{'01': 184, '11': 548, '10': 132, '00': 160}\n"
     ]
    }
   ],
   "source": [
    "compression_counts = compression_circuit(chars, params)\n",
    "print(compression_counts)"
   ]
  },
  {
   "cell_type": "code",
   "execution_count": 184,
   "id": "757c8560",
   "metadata": {},
   "outputs": [
    {
     "name": "stdout",
     "output_type": "stream",
     "text": [
      "VWVM\n"
     ]
    }
   ],
   "source": [
    "arr = [0 for _ in range(n)]\n",
    "idx = 0\n",
    "for state, count in compression_counts.items():\n",
    "    state = state[::-1]\n",
    "    arr[int(state,2)] = count/1024        \n",
    "output = \"\"\n",
    "for i in range(n):\n",
    "    output += chr(ord(\"A\")+25-int(round(arr[i]*25,0)))\n",
    "print(output)"
   ]
  },
  {
   "cell_type": "code",
   "execution_count": null,
   "id": "0f9473b7",
   "metadata": {},
   "outputs": [],
   "source": []
  },
  {
   "cell_type": "code",
   "execution_count": null,
   "id": "cbe14d24",
   "metadata": {},
   "outputs": [],
   "source": []
  }
 ],
 "metadata": {
  "kernelspec": {
   "display_name": "Python 3 (ipykernel)",
   "language": "python",
   "name": "python3"
  },
  "language_info": {
   "codemirror_mode": {
    "name": "ipython",
    "version": 3
   },
   "file_extension": ".py",
   "mimetype": "text/x-python",
   "name": "python",
   "nbconvert_exporter": "python",
   "pygments_lexer": "ipython3",
   "version": "3.7.10"
  }
 },
 "nbformat": 4,
 "nbformat_minor": 5
}
